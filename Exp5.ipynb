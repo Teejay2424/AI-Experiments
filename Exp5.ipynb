{
  "metadata": {
    "kernelspec": {
      "name": "python",
      "display_name": "Python (Pyodide)",
      "language": "python"
    },
    "language_info": {
      "codemirror_mode": {
        "name": "python",
        "version": 3
      },
      "file_extension": ".py",
      "mimetype": "text/x-python",
      "name": "python",
      "nbconvert_exporter": "python",
      "pygments_lexer": "ipython3",
      "version": "3.8"
    }
  },
  "nbformat_minor": 5,
  "nbformat": 4,
  "cells": [
    {
      "id": "c53e64ae-3299-47f2-9fbb-a8ca2a5fc916",
      "cell_type": "code",
      "source": "import random\n\ndef objective_function(x):\n    return (x ** 2) + 4 * x  # function x^2 + 4x\n\ndef hill_climb(start, step_size, iterations):\n    current_x = start\n    current_value = objective_function(current_x)\n    \n    for _ in range(iterations):\n        next_x = current_x + random.choice([-step_size, step_size])\n        next_value = objective_function(next_x)\n\n        if next_value > current_value:\n            current_x = next_x\n            current_value = next_value\n    \n    return current_x, current_value\n\nbest_x, best_value = hill_climb(start=random.uniform(-10,10), step_size=0.1, iterations=100)\n\nprint(f\"Best x: {best_x}, Best value: {best_value}\")",
      "metadata": {
        "trusted": true
      },
      "outputs": [],
      "execution_count": null
    }
  ]
}