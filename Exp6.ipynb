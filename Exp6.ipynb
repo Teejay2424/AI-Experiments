{
  "metadata": {
    "kernelspec": {
      "name": "python",
      "display_name": "Python (Pyodide)",
      "language": "python"
    },
    "language_info": {
      "codemirror_mode": {
        "name": "python",
        "version": 3
      },
      "file_extension": ".py",
      "mimetype": "text/x-python",
      "name": "python",
      "nbconvert_exporter": "python",
      "pygments_lexer": "ipython3",
      "version": "3.8"
    }
  },
  "nbformat_minor": 5,
  "nbformat": 4,
  "cells": [
    {
      "id": "c739696e-218b-4c47-82fa-9182f2cc9eb5",
      "cell_type": "code",
      "source": "import math\n\ndef alpha_beta_pruning(node, depth, alpha, beta, maximizing_player):\n    if depth == 0 or isinstance(node, int):  # Leaf node or depth limit reached\n        return node\n    \n    if maximizing_player:\n        max_eval = -math.inf\n        for child in node:\n            eval = alpha_beta_pruning(child, depth - 1, alpha, beta, False)\n            max_eval = max(max_eval, eval)\n            alpha = max(alpha, eval)\n            if beta <= alpha:\n                break  # Beta cutoff\n        return max_eval\n    else:\n        min_eval = math.inf\n        for child in node:\n            eval = alpha_beta_pruning(child, depth - 1, alpha, beta, True)\n            min_eval = min(min_eval, eval)\n            beta = min(beta, eval)\n            if beta <= alpha:\n                break  # Alpha cutoff\n        return min_eval\n\n# Example game tree (Nested lists where leaf nodes contain values)\ngame_tree = [\n    [3, 5, 6],\n    [9, 1, 2],\n    [0, -1, 4]\n]\n\n# Running the Alpha-Beta Pruning algorithm\nresult = alpha_beta_pruning(game_tree, depth=3, alpha=-math.inf, beta=math.inf, maximizing_player=True)\nprint(\"Optimal value:\", result)",
      "metadata": {
        "trusted": true
      },
      "outputs": [],
      "execution_count": null
    }
  ]
}