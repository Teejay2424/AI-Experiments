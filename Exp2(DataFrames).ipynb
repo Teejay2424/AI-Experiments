{
 "cells": [
  {
   "cell_type": "code",
   "execution_count": 3,
   "id": "d9cff117-f7cd-4771-91dd-5fd4ebb6a57f",
   "metadata": {},
   "outputs": [
    {
     "name": "stdout",
     "output_type": "stream",
     "text": [
      "0    1\n",
      "1    2\n",
      "2    3\n",
      "dtype: int64\n",
      "   rollno name  marks\n",
      "0     101    a     50\n",
      "1     102    b     90\n",
      "2     103    c    100\n"
     ]
    }
   ],
   "source": [
    "#exp 2\n",
    "#use dataframes with implementation of Pandas\n",
    "\n",
    "import pandas as pd\n",
    "l = [1,2,3]\n",
    "s = pd.Series(l)\n",
    "print(s)\n",
    "\n",
    "d = {'rollno': [101,102,103], 'name':['a','b','c'], 'marks': [50,90,100]}\n",
    "df = pd.DataFrame(d)\n",
    "print(df)"
   ]
  },
  {
   "cell_type": "code",
   "execution_count": null,
   "id": "aad2e1b6-a9aa-46e1-af41-870caf3ca3d0",
   "metadata": {},
   "outputs": [],
   "source": []
  }
 ],
 "metadata": {
  "kernelspec": {
   "display_name": "Python [conda env:base] *",
   "language": "python",
   "name": "conda-base-py"
  },
  "language_info": {
   "codemirror_mode": {
    "name": "ipython",
    "version": 3
   },
   "file_extension": ".py",
   "mimetype": "text/x-python",
   "name": "python",
   "nbconvert_exporter": "python",
   "pygments_lexer": "ipython3",
   "version": "3.12.7"
  }
 },
 "nbformat": 4,
 "nbformat_minor": 5
}
