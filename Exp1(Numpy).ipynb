{
 "cells": [
  {
   "cell_type": "code",
   "execution_count": 4,
   "id": "312d3623-cce9-4191-b825-d978fdf27624",
   "metadata": {},
   "outputs": [
    {
     "name": "stdout",
     "output_type": "stream",
     "text": [
      "[[1 3 7]\n",
      " [3 4 5]]\n"
     ]
    }
   ],
   "source": [
    "#exp 1\n",
    "\n",
    "import numpy as np\n",
    "arr = np.array([[7,3,1], [3,4,5]])\n",
    "sort1 = np.sort(arr)\n",
    "print(sort1)"
   ]
  },
  {
   "cell_type": "code",
   "execution_count": null,
   "id": "f2a91b4e-ab22-44a9-b7aa-005e6d881014",
   "metadata": {},
   "outputs": [],
   "source": []
  }
 ],
 "metadata": {
  "kernelspec": {
   "display_name": "Python [conda env:base] *",
   "language": "python",
   "name": "conda-base-py"
  },
  "language_info": {
   "codemirror_mode": {
    "name": "ipython",
    "version": 3
   },
   "file_extension": ".py",
   "mimetype": "text/x-python",
   "name": "python",
   "nbconvert_exporter": "python",
   "pygments_lexer": "ipython3",
   "version": "3.12.7"
  }
 },
 "nbformat": 4,
 "nbformat_minor": 5
}
