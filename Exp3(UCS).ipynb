{
  "metadata": {
    "kernelspec": {
      "name": "python",
      "display_name": "Python (Pyodide)",
      "language": "python"
    },
    "language_info": {
      "codemirror_mode": {
        "name": "python",
        "version": 3
      },
      "file_extension": ".py",
      "mimetype": "text/x-python",
      "name": "python",
      "nbconvert_exporter": "python",
      "pygments_lexer": "ipython3",
      "version": "3.8"
    }
  },
  "nbformat_minor": 5,
  "nbformat": 4,
  "cells": [
    {
      "id": "569d1007-040d-426d-a166-0ea608ae471f",
      "cell_type": "code",
      "source": "import heapq\n\ndef uniform_cost_search(graph, start, goal):\n    priority_queue = []\n    heapq.heappush(priority_queue, (0, start, []))\n    visited = set()\n    \n    while priority_queue:\n        cost, node, path = heapq.heappop(priority_queue)\n        \n        if node in visited:\n            continue\n        \n        path = path + [node]\n        visited.add(node)\n        \n        if node == goal:\n            return path, cost\n        \n        for neighbor, edge_cost in graph.get(node, []):\n            if neighbor not in visited:\n                heapq.heappush(priority_queue, (cost + edge_cost, neighbor, path))\n    \n    return None, float(\"inf\")\n\n# Example graph\ngraph = {\n    \"A\": [(\"B\", 1), (\"C\", 4)],\n    \"B\": [(\"A\", 1), (\"C\", 2), (\"D\", 5)],\n    \"C\": [(\"A\", 4), (\"B\", 2), (\"D\", 1)],\n    \"D\": [(\"B\", 5), (\"C\", 1)]\n}\n\npath, cost = uniform_cost_search(graph, \"A\", \"D\")\nprint(\"Shortest path:\", path)\nprint(\"Total cost:\", cost)",
      "metadata": {
        "trusted": true
      },
      "outputs": [
        {
          "name": "stdout",
          "output_type": "stream",
          "text": "Shortest path: ['A', 'B', 'C', 'D']\nTotal cost: 4\n"
        }
      ],
      "execution_count": 1
    }
  ]
}
