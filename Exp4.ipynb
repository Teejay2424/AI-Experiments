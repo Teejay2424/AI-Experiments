{
  "metadata": {
    "kernelspec": {
      "name": "python",
      "display_name": "Python (Pyodide)",
      "language": "python"
    },
    "language_info": {
      "codemirror_mode": {
        "name": "python",
        "version": 3
      },
      "file_extension": ".py",
      "mimetype": "text/x-python",
      "name": "python",
      "nbconvert_exporter": "python",
      "pygments_lexer": "ipython3",
      "version": "3.8"
    }
  },
  "nbformat_minor": 5,
  "nbformat": 4,
  "cells": [
    {
      "id": "28648897-d708-4d91-8207-7c8a87ee8444",
      "cell_type": "code",
      "source": "import heapq\n\nclass Graph:\n    def __init__(self):\n        self.graph = {}\n    \n    def add_edge(self, node1, node2, cost):\n        if node1 not in self.graph:\n            self.graph[node1] = []\n        if node2 not in self.graph:\n            self.graph[node2] = []\n        self.graph[node1].append((node2, cost))\n        self.graph[node2].append((node1, cost))\n    \n    def a_star(self, start, goal, heuristic):\n        open_list = []\n        heapq.heappush(open_list, (0 + heuristic[start], 0, start, []))\n        closed_set = set()\n        \n        while open_list:\n            _, cost, current, path = heapq.heappop(open_list)\n            \n            if current in closed_set:\n                continue\n            \n            path = path + [current]\n            closed_set.add(current)\n            \n            if current == goal:\n                return path, cost\n            \n            for neighbor, edge_cost in self.graph.get(current, []):\n                if neighbor not in closed_set:\n                    heapq.heappush(open_list, (cost + edge_cost + heuristic[neighbor], cost + edge_cost, neighbor, path))\n        \n        return None, float(\"inf\")\n\n# Example graph\ngraph = Graph()\ngraph.add_edge(\"A\", \"B\", 1)\ngraph.add_edge(\"A\", \"C\", 4)\ngraph.add_edge(\"B\", \"C\", 2)\ngraph.add_edge(\"B\", \"D\", 5)\ngraph.add_edge(\"C\", \"D\", 1)\n\ntest_heuristic = {\"A\": 7, \"B\": 6, \"C\": 2, \"D\": 0}\n\npath, cost = graph.a_star(\"A\", \"D\", test_heuristic)\nprint(\"Shortest path:\", path)\nprint(\"Total cost:\", cost)",
      "metadata": {
        "trusted": true
      },
      "outputs": [
        {
          "name": "stdout",
          "output_type": "stream",
          "text": "Shortest path: ['A', 'C', 'D']\nTotal cost: 5\n"
        }
      ],
      "execution_count": 1
    },
    {
      "id": "8613bd7c-46ed-4827-9d41-0daf5917550b",
      "cell_type": "code",
      "source": "",
      "metadata": {
        "trusted": true
      },
      "outputs": [],
      "execution_count": null
    }
  ]
}