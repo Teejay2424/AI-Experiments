{
  "metadata": {
    "kernelspec": {
      "name": "python",
      "display_name": "Python (Pyodide)",
      "language": "python"
    },
    "language_info": {
      "codemirror_mode": {
        "name": "python",
        "version": 3
      },
      "file_extension": ".py",
      "mimetype": "text/x-python",
      "name": "python",
      "nbconvert_exporter": "python",
      "pygments_lexer": "ipython3",
      "version": "3.8"
    }
  },
  "nbformat_minor": 5,
  "nbformat": 4,
  "cells": [
    {
      "id": "affcd65d-fa2f-4838-92e6-3bb5ae0e5621",
      "cell_type": "code",
      "source": "global N\nN = int(input('Enter no. of queens: '))\ndef soln(board):\n    for i in range(N):\n        for j in range(N):\n            print (board[i][j],end=' ')\n        print()\ndef isSafe(board, row, col):\n    for i in range(col):\n        if board[row][i] == 1:\n            return False\n    for i, j in zip(range(row, -1, -1), range(col, -1, -1)):\n        if board[i][j] == 1:\n            return False\n    for i, j in zip(range(row, N, 1), range(col, -1, -1)):\n        if board[i][j] == 1:\n            return False\n    return True\ndef NQUtil(board, col):\n    if col >= N:\n        return True\n    for i in range(N):\n        if isSafe(board, i, col):\n            board[i][col] = 1\n            if NQUtil(board, col + 1) == True:\n                return True\n            board[i][col] = 0\n    return False\ndef NQ():\n    board = [ [0 for _ in range(N)] for _ in range(N)]\n    if NQUtil(board, 0) == False:\n        print (\"Solution does not exist\")\n        return False\n    soln(board)\n    return True\nNQ()",
      "metadata": {
        "trusted": true
      },
      "outputs": [],
      "execution_count": null
    }
  ]
}
